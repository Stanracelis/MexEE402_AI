{
 "cells": [
  {
   "cell_type": "markdown",
   "metadata": {
    "id": "woUaua5t4i2F"
   },
   "source": [
    "# PRACTICE EXERCISES:\n",
    "\n",
    "<a href = '#sec1'> 1.Introduction to Variables </a>\n",
    "\n",
    "<a href = '#sec2'> 2. Collection of Variables </a>\n",
    "\n",
    "<a href = '#sec3'> 3. Data Types </a>\n",
    "\n",
    "<a href = '#sec4'> 4. Conditional Statement </a>\n",
    "\n",
    "<a href = '#sec5'> 5. Loop Statement </a>\n",
    "\n",
    "<a href = '#sec6'> 6. Functions </a>"
   ]
  },
  {
   "cell_type": "markdown",
   "metadata": {
    "id": "JsoAqb0Z4i2L"
   },
   "source": [
    "<a id = 'sec1'></a>\n",
    "\n",
    "## 1. Introduction to Variables"
   ]
  },
  {
   "cell_type": "markdown",
   "metadata": {
    "id": "4MofaxS74i2N"
   },
   "source": [
    "### 1.1) What will be the type of the *add* variable?\n",
    "a = 10\n",
    "\n",
    "b = 5.1\n",
    "\n",
    "add = a + b"
   ]
  },
  {
   "cell_type": "code",
   "execution_count": 6,
   "metadata": {
    "colab": {
     "base_uri": "https://localhost:8080/"
    },
    "id": "RKHcjwP65O_H",
    "outputId": "59d06128-4b0c-4085-8a54-3638dbc6344d"
   },
   "outputs": [
    {
     "name": "stdout",
     "output_type": "stream",
     "text": [
      "15.1\n"
     ]
    }
   ],
   "source": [
    "a=10\n",
    "b=5.1\n",
    "x = a+b\n",
    "print(x)\n",
    "\n",
    "\n"
   ]
  },
  {
   "cell_type": "markdown",
   "metadata": {
    "id": "DqwC_DI64i2P"
   },
   "source": [
    "### 1.2) Is 5 = (3+2)?"
   ]
  },
  {
   "cell_type": "code",
   "execution_count": 7,
   "metadata": {
    "colab": {
     "base_uri": "https://localhost:8080/"
    },
    "id": "JUZHKfr_5tNv",
    "outputId": "c0a6ecf0-1106-464e-a0dc-b66aa5608c2f"
   },
   "outputs": [
    {
     "name": "stdout",
     "output_type": "stream",
     "text": [
      "5\n",
      "True\n"
     ]
    }
   ],
   "source": [
    "x = (3+2)\n",
    "print(x)\n",
    "print(x==5)\n",
    "## answer\n",
    "#YES"
   ]
  },
  {
   "cell_type": "code",
   "execution_count": null,
   "metadata": {
    "ExecuteTime": {
     "end_time": "2021-05-20T14:48:25.498751Z",
     "start_time": "2021-05-20T14:48:25.486530Z"
    },
    "colab": {
     "base_uri": "https://localhost:8080/"
    },
    "id": "gQGCS38S4i2R",
    "outputId": "fcf03f20-ad94-48a0-d7e0-8bb768d6d0a9"
   },
   "outputs": [],
   "source": [
    "\n"
   ]
  },
  {
   "cell_type": "markdown",
   "metadata": {
    "id": "tmsuEQM04i2Q"
   },
   "source": [
    "### 1.3) Add 33 in variable *a* and print the result\n",
    "\n",
    "a = 3"
   ]
  },
  {
   "cell_type": "code",
   "execution_count": 7,
   "metadata": {},
   "outputs": [
    {
     "name": "stdout",
     "output_type": "stream",
     "text": [
      "36\n"
     ]
    }
   ],
   "source": [
    "a = 3\n",
    "x=a+33\n",
    "print(x)"
   ]
  },
  {
   "cell_type": "markdown",
   "metadata": {
    "id": "NIH5P0pX4i2S"
   },
   "source": [
    "### 1.4) Convert integer variable *a* to float and check its type\n",
    "\n",
    "a = 3"
   ]
  },
  {
   "cell_type": "code",
   "execution_count": 154,
   "metadata": {
    "ExecuteTime": {
     "end_time": "2021-05-20T14:48:25.508158Z",
     "start_time": "2021-05-20T14:48:25.500721Z"
    },
    "colab": {
     "base_uri": "https://localhost:8080/"
    },
    "id": "iKqEQzM74i2T",
    "outputId": "d5a65567-a7a8-4abc-8ac5-6b8acd1fc596"
   },
   "outputs": [
    {
     "name": "stdout",
     "output_type": "stream",
     "text": [
      "<class 'float'>\n"
     ]
    }
   ],
   "source": [
    "a=3\n",
    "\n",
    "a= float(a)\n",
    "print(type(a))"
   ]
  },
  {
   "cell_type": "markdown",
   "metadata": {
    "id": "mc3XZ99M4i2U"
   },
   "source": [
    "<a id = 'sec2'></a>\n",
    "## 2. Collection of Variables"
   ]
  },
  {
   "cell_type": "markdown",
   "metadata": {
    "id": "7qL8vkV74i2U"
   },
   "source": [
    "### 2.1) Create a list of repeated element (element 2,48 times)"
   ]
  },
  {
   "cell_type": "code",
   "execution_count": 153,
   "metadata": {
    "colab": {
     "base_uri": "https://localhost:8080/"
    },
    "id": "m4Y_1rME61h3",
    "outputId": "f74ef195-38fe-4f43-a2de-c07a4f182df9"
   },
   "outputs": [],
   "source": [
    "list =[]\n"
   ]
  },
  {
   "cell_type": "raw",
   "metadata": {
    "id": "4xC5wjD94i2V"
   },
   "source": [
    "### 2.2)  Replace the second element of the list with \"strawberries\"\n",
    "list = [\"apple\",\"orange\",\"grapes\",\"watermelon\"]"
   ]
  },
  {
   "cell_type": "code",
   "execution_count": 36,
   "metadata": {
    "colab": {
     "base_uri": "https://localhost:8080/"
    },
    "id": "MaQJ5aJz4i2V",
    "outputId": "6cca9df9-e912-42a7-c77c-57b2573cec43"
   },
   "outputs": [
    {
     "name": "stdout",
     "output_type": "stream",
     "text": [
      "['apple', 'strawberries', 'grapes', 'watermelon']\n"
     ]
    }
   ],
   "source": [
    "list = [\"apple\",\"strawberries\", \"grapes\", \"watermelon\"]\n",
    "print(list)"
   ]
  },
  {
   "cell_type": "markdown",
   "metadata": {
    "id": "F_lElqbs4i2X"
   },
   "source": [
    "### 2.3) Check length of list\n",
    "\n",
    "List1 =[\"a\",\"b\",\"c\",\"d\",\"e\"]"
   ]
  },
  {
   "cell_type": "code",
   "execution_count": 130,
   "metadata": {
    "ExecuteTime": {
     "end_time": "2021-05-20T14:48:25.628548Z",
     "start_time": "2021-05-20T14:48:25.619539Z"
    },
    "colab": {
     "base_uri": "https://localhost:8080/"
    },
    "id": "9Bbo1Xxe4i2X",
    "outputId": "6b53a8ca-aa81-4e14-c979-0645be4e2ce5"
   },
   "outputs": [
    {
     "name": "stdout",
     "output_type": "stream",
     "text": [
      "it contains 5 variables\n"
     ]
    }
   ],
   "source": [
    "List1 = [\"a\",\"b\",\"c\",\"d\",\"e\"]\n",
    "print(\"it contains\", len(List1), \"variables\")"
   ]
  },
  {
   "cell_type": "markdown",
   "metadata": {
    "id": "CbX216cq4i2Y"
   },
   "source": [
    "### 2.4) Create a dictionary with the following information:\n",
    "\n",
    "brand = Audi\n",
    "\n",
    "Model = Q2\n",
    "\n",
    "Year = 1980"
   ]
  },
  {
   "cell_type": "code",
   "execution_count": 132,
   "metadata": {
    "ExecuteTime": {
     "end_time": "2021-05-20T14:48:25.638636Z",
     "start_time": "2021-05-20T14:48:25.630590Z"
    },
    "id": "wi8N2xIj4i2Y"
   },
   "outputs": [
    {
     "name": "stdout",
     "output_type": "stream",
     "text": [
      "dict[slice('brand', 'audi', None), slice('model', 'Q2', None), slice('year', '1980', None)]\n"
     ]
    }
   ],
   "source": [
    "car= dict[\"brand\":\"audi\", \"model\":\"Q2\", \"year\":\"1980\"]\n",
    "print(car)"
   ]
  },
  {
   "cell_type": "markdown",
   "metadata": {
    "id": "YgLQuEwp4i2Z"
   },
   "source": [
    "### 2.5) Create a set of following elements\n",
    "\n",
    "1.0, \"Hello\", 55 , (6,7,8)"
   ]
  },
  {
   "cell_type": "code",
   "execution_count": null,
   "metadata": {
    "ExecuteTime": {
     "end_time": "2021-05-20T14:48:25.658787Z",
     "start_time": "2021-05-20T14:48:25.650828Z"
    },
    "id": "qtf_IMZ94i2Z"
   },
   "outputs": [],
   "source": []
  },
  {
   "cell_type": "markdown",
   "metadata": {
    "id": "6c59BWKH4i2Z"
   },
   "source": [
    "<a id = 'sec3'></a>\n",
    "\n",
    "## 3. Data Types and String Manipulation"
   ]
  },
  {
   "cell_type": "markdown",
   "metadata": {
    "id": "7JHGTKPa4i2a"
   },
   "source": [
    "\n",
    "### 3.1) Printing your name My_Name = \"My name is Jupyter!\" Also, check if My_Name is all Caps or not. Use isupper() to check returns True if all the letters are Capitals, False if atleast one letter in in lower case.\n",
    "HINT: My_Name.isupper()"
   ]
  },
  {
   "cell_type": "code",
   "execution_count": 148,
   "metadata": {
    "ExecuteTime": {
     "end_time": "2021-05-20T14:48:25.698733Z",
     "start_time": "2021-05-20T14:48:25.690738Z"
    },
    "id": "7aN5X8F44i2a"
   },
   "outputs": [
    {
     "data": {
      "text/plain": [
       "False"
      ]
     },
     "execution_count": 148,
     "metadata": {},
     "output_type": "execute_result"
    }
   ],
   "source": [
    "My_Name = \"My name is Jupyter\"\n",
    "My_Name.isupper()\n",
    "\n"
   ]
  },
  {
   "cell_type": "markdown",
   "metadata": {
    "id": "yVHC3_US4i2a"
   },
   "source": [
    "### 3.2)  Convert My_Name to all caps. Hint: My_Name.upper()."
   ]
  },
  {
   "cell_type": "code",
   "execution_count": 146,
   "metadata": {
    "ExecuteTime": {
     "end_time": "2021-05-20T14:48:25.717918Z",
     "start_time": "2021-05-20T14:48:25.709391Z"
    },
    "id": "cfcyVS0I4i2b"
   },
   "outputs": [
    {
     "data": {
      "text/plain": [
       "'MY_NAME'"
      ]
     },
     "execution_count": 146,
     "metadata": {},
     "output_type": "execute_result"
    }
   ],
   "source": [
    "a = \"My_Name\"\n",
    "a.upper()"
   ]
  },
  {
   "cell_type": "markdown",
   "metadata": {
    "id": "ylpAo70K4i2b"
   },
   "source": [
    "### 3.3) if int1 = \"500\", what is the Datatype of int1"
   ]
  },
  {
   "cell_type": "code",
   "execution_count": null,
   "metadata": {
    "ExecuteTime": {
     "end_time": "2021-05-20T14:48:25.738721Z",
     "start_time": "2021-05-20T14:48:25.720391Z"
    },
    "id": "EBYUiO4m4i2b"
   },
   "outputs": [],
   "source": []
  },
  {
   "cell_type": "markdown",
   "metadata": {
    "id": "n2hhXP3G4i2c"
   },
   "source": [
    "<a id = 'sec4'></a>\n",
    "\n",
    "## 4. Practice Exercise on Conditional Statement"
   ]
  },
  {
   "cell_type": "markdown",
   "metadata": {
    "id": "Dkf9fgT-4i2c"
   },
   "source": [
    "### 4.1) if x = 20 and y = 30. Write a python code to check if x is less than y."
   ]
  },
  {
   "cell_type": "code",
   "execution_count": 149,
   "metadata": {
    "ExecuteTime": {
     "end_time": "2021-05-20T14:48:25.789559Z",
     "start_time": "2021-05-20T14:48:25.780049Z"
    },
    "id": "QgmV7Rdq4i2d"
   },
   "outputs": [
    {
     "name": "stdout",
     "output_type": "stream",
     "text": [
      "<class 'float'>\n"
     ]
    }
   ],
   "source": [
    "a = 3\n",
    "a = float(a)\n",
    "print(type(a))"
   ]
  },
  {
   "cell_type": "code",
   "execution_count": null,
   "metadata": {},
   "outputs": [],
   "source": []
  },
  {
   "cell_type": "markdown",
   "metadata": {
    "id": "xa8-Rj1k4i2d"
   },
   "source": [
    "### 4.2) Check if *a* is equal to 10, If yes, print \"Hello\", else print \"Good Bye\"\n",
    "a = 56"
   ]
  },
  {
   "cell_type": "code",
   "execution_count": 56,
   "metadata": {
    "ExecuteTime": {
     "end_time": "2021-05-20T14:48:25.818796Z",
     "start_time": "2021-05-20T14:48:25.798761Z"
    },
    "id": "Wq3SnSlP4i2d"
   },
   "outputs": [
    {
     "name": "stdout",
     "output_type": "stream",
     "text": [
      "Good Bye\n"
     ]
    }
   ],
   "source": [
    "a=56\n",
    "if a==10:\n",
    " print (\"Hello\")\n",
    "else: \n",
    " print (\"Good Bye\")"
   ]
  },
  {
   "cell_type": "markdown",
   "metadata": {
    "id": "79kl_Aud4i2d"
   },
   "source": [
    "### 4.3) Check whether a number is even or odd\n",
    "a = 2020"
   ]
  },
  {
   "cell_type": "code",
   "execution_count": 157,
   "metadata": {
    "ExecuteTime": {
     "end_time": "2021-05-20T14:48:25.836915Z",
     "start_time": "2021-05-20T14:48:25.820893Z"
    },
    "id": "24UU5oh34i2d"
   },
   "outputs": [
    {
     "ename": "SyntaxError",
     "evalue": "invalid syntax (656397545.py, line 2)",
     "output_type": "error",
     "traceback": [
      "\u001b[1;36m  Cell \u001b[1;32mIn[157], line 2\u001b[1;36m\u001b[0m\n\u001b[1;33m    if a == %3 :\u001b[0m\n\u001b[1;37m            ^\u001b[0m\n\u001b[1;31mSyntaxError\u001b[0m\u001b[1;31m:\u001b[0m invalid syntax\n"
     ]
    }
   ],
   "source": [
    "a=2020\n",
    "if a == %3 :\n",
    "    print(\"odd\")\n",
    "else:\n",
    "    print(\"even\")"
   ]
  },
  {
   "cell_type": "markdown",
   "metadata": {
    "id": "VACa4T6s4i2e"
   },
   "source": [
    "### 4.4) Check if the word \"Data\" is present in the sentence \"I am a Data Scientist\". If found, print \"It is present\" else print FALSE."
   ]
  },
  {
   "cell_type": "code",
   "execution_count": 144,
   "metadata": {
    "ExecuteTime": {
     "end_time": "2021-05-20T14:48:25.868457Z",
     "start_time": "2021-05-20T14:48:25.860437Z"
    },
    "id": "5lmhPnqm4i2o"
   },
   "outputs": [
    {
     "name": "stdout",
     "output_type": "stream",
     "text": [
      "It is present\n"
     ]
    }
   ],
   "source": [
    "x = \"Data\"\n",
    "a = \"I am a Data Scientist\"\n",
    "if x is x:\n",
    "    print (\"It is present\")\n",
    "else:\n",
    "\n",
    " print (\"FALSE\")\n"
   ]
  },
  {
   "cell_type": "markdown",
   "metadata": {
    "id": "oNav0Ycl4i2o"
   },
   "source": [
    "### 4.5) Write python code to check if a number is positive or negative."
   ]
  },
  {
   "cell_type": "code",
   "execution_count": null,
   "metadata": {
    "ExecuteTime": {
     "end_time": "2021-05-20T14:48:25.888736Z",
     "start_time": "2021-05-20T14:48:25.880718Z"
    },
    "id": "t91XS33m4i2o"
   },
   "outputs": [],
   "source": [
    "\n"
   ]
  },
  {
   "cell_type": "markdown",
   "metadata": {
    "id": "rmaJucHf4i2o"
   },
   "source": [
    "<a id = 'sec5'></a>\n",
    "\n",
    "## 5. Practice Exercise on Loops"
   ]
  },
  {
   "cell_type": "markdown",
   "metadata": {
    "id": "LgmW_f2v4i2p"
   },
   "source": [
    "### 5.1) Print Data Science 5 times using for loop"
   ]
  },
  {
   "cell_type": "code",
   "execution_count": 118,
   "metadata": {
    "ExecuteTime": {
     "end_time": "2021-05-20T14:48:25.928325Z",
     "start_time": "2021-05-20T14:48:25.910937Z"
    },
    "id": "u59x4Z3H4i2p"
   },
   "outputs": [
    {
     "name": "stdout",
     "output_type": "stream",
     "text": [
      "data science\n",
      "data science\n",
      "data science\n",
      "data science\n",
      "data science\n"
     ]
    }
   ],
   "source": [
    "a = \"data science\"\n",
    "for loop in range (5):\n",
    "    print (a)"
   ]
  },
  {
   "cell_type": "markdown",
   "metadata": {
    "id": "yJOniQHk4i2q"
   },
   "source": [
    "Note: Remember to keep the index as one more than what is required. In the above code the indexing is done from 0 to 5 which are 6 places but Python has printed it 5 times."
   ]
  },
  {
   "cell_type": "markdown",
   "metadata": {
    "id": "9KjTkCeJ4i2q"
   },
   "source": [
    "### 5.2) Print all the even numbers from 1 to 20 (both inclusive) using for loop."
   ]
  },
  {
   "cell_type": "code",
   "execution_count": 105,
   "metadata": {
    "ExecuteTime": {
     "end_time": "2021-05-20T14:48:25.968679Z",
     "start_time": "2021-05-20T14:48:25.950257Z"
    },
    "id": "i5SZ8os_4i2r"
   },
   "outputs": [
    {
     "name": "stdout",
     "output_type": "stream",
     "text": [
      "2\n",
      "4\n",
      "6\n",
      "8\n",
      "10\n",
      "12\n",
      "14\n",
      "16\n",
      "18\n",
      "20\n"
     ]
    }
   ],
   "source": [
    "count = 0\n",
    "while count < 20:\n",
    "    count += 1\n",
    "    if count % 2 == 1:\n",
    "        continue\n",
    "    print (count)"
   ]
  },
  {
   "cell_type": "markdown",
   "metadata": {
    "id": "OR0EaYFD4i2r"
   },
   "source": [
    "<a id = 'sec6'></a>\n",
    "\n",
    "## 6. Function"
   ]
  },
  {
   "cell_type": "markdown",
   "metadata": {
    "id": "HGPDPNLB4i2r"
   },
   "source": [
    "### 6.1) Define the python function to check whether the number 33 is even or odd"
   ]
  },
  {
   "cell_type": "code",
   "execution_count": 126,
   "metadata": {
    "id": "EGl1Q2Jh4i2r"
   },
   "outputs": [
    {
     "name": "stdout",
     "output_type": "stream",
     "text": [
      "odd\n"
     ]
    }
   ],
   "source": [
    "a = 33\n",
    "if a % 2:\n",
    "    print (\"odd\")"
   ]
  },
  {
   "cell_type": "code",
   "execution_count": null,
   "metadata": {
    "id": "BW_2FjO24i2r"
   },
   "outputs": [],
   "source": []
  },
  {
   "cell_type": "markdown",
   "metadata": {
    "id": "J-yZOqnH4i2r"
   },
   "source": [
    "### 6.2)Write the python program to get the unique values from the given list"
   ]
  },
  {
   "cell_type": "code",
   "execution_count": null,
   "metadata": {
    "id": "-xiGKM_z4i2s"
   },
   "outputs": [],
   "source": []
  },
  {
   "cell_type": "code",
   "execution_count": null,
   "metadata": {
    "id": "8TgQpUiG4i2s"
   },
   "outputs": [],
   "source": []
  },
  {
   "cell_type": "markdown",
   "metadata": {
    "id": "q8YS0BoJ4i2u"
   },
   "source": [
    "### 6.3) Define the python function which adds two global numeric variables (1204 and 344536) Without Argument."
   ]
  },
  {
   "cell_type": "code",
   "execution_count": null,
   "metadata": {
    "id": "Uh7uOBl-4i2u"
   },
   "outputs": [],
   "source": [
    "\n",
    "\n"
   ]
  },
  {
   "cell_type": "code",
   "execution_count": null,
   "metadata": {
    "id": "m910NpCy4i2v"
   },
   "outputs": [],
   "source": []
  },
  {
   "cell_type": "markdown",
   "metadata": {
    "id": "2ZdvpIIC4i2v"
   },
   "source": [
    "## Keep Learning!"
   ]
  }
 ],
 "metadata": {
  "colab": {
   "provenance": []
  },
  "kernelspec": {
   "display_name": "Python 3 (ipykernel)",
   "language": "python",
   "name": "python3"
  },
  "language_info": {
   "codemirror_mode": {
    "name": "ipython",
    "version": 3
   },
   "file_extension": ".py",
   "mimetype": "text/x-python",
   "name": "python",
   "nbconvert_exporter": "python",
   "pygments_lexer": "ipython3",
   "version": "3.12.6"
  },
  "toc": {
   "base_numbering": 1,
   "nav_menu": {},
   "number_sections": true,
   "sideBar": true,
   "skip_h1_title": false,
   "title_cell": "Table of Contents",
   "title_sidebar": "Contents",
   "toc_cell": false,
   "toc_position": {},
   "toc_section_display": true,
   "toc_window_display": false
  }
 },
 "nbformat": 4,
 "nbformat_minor": 4
}
